{
 "cells": [
  {
   "cell_type": "markdown",
   "metadata": {},
   "source": [
    "## What does our ZKP look like \n",
    "\n",
    "We have a bunch of stuff \n",
    "\n",
    "1. A witness which is information that lets us make the proof in our case this is knowledge of a variable x that satisfies our eqation. It also includes the intermediate values that are zkp uses. This is secret to the user they want to prove this information.\n",
    "2. A set of gate constraints. Basically that all the multiplicaions and addition we do are correct. \n",
    "3. A copy constriant check\n",
    "4. Input / output checks"
   ]
  },
  {
   "cell_type": "markdown",
   "metadata": {},
   "source": [
    "# Plonk Tutorial\n",
    "This tutorial is based upon https://www.vitalik.ca/general/2019/09/22/plonk.html it expands upon the ideas described there and teaches the user to build their own plonk implemenation in python.\n",
    "\n",
    "This tutorial takes to forum of a series of challenges where the user eventually build a plonk implmentation of a single proof. \n",
    "\n",
    "Plonk allows us to make arbitary zero knoledge proofs. For the purposes of this tutorial we will prove that we know an x such that  $P(x) = x^3 + x + 5 = 35$ this is a toy problem\n",
    "\n",
    "![](https://vitalik.ca/files/posts_files/plonk-files/Circuit.png)\n",
    "\n",
    "You can see we have two kinds of constraints gate constraints and copy constraints. A constraint is like an assertion from python. The program can only continue running if this assertion is true.\n",
    "\n",
    "We will first handle the gate constraints and then tackle the copy constraints. "
   ]
  },
  {
   "cell_type": "markdown",
   "metadata": {},
   "source": [
    "## Gen witness"
   ]
  },
  {
   "cell_type": "markdown",
   "metadata": {},
   "source": [
    "So lets first find a satisfying solution to the probelm we are trying to make proofs about $x^3 + x + 5 = 35$\n",
    "\n",
    "The variables a, b and c will be the checking of additions / multiplicaions operatirons. Where we define `a + b == c` or `a * b == c`"
   ]
  },
  {
   "cell_type": "code",
   "execution_count": 71,
   "metadata": {},
   "outputs": [],
   "source": [
    "def gen_witness(x, y, z):\n",
    "    a = [x, y, z, x*x]\n",
    "    b = [x, y, z, y*y]\n",
    "    c = [x*x, y*y, z*z, z*z]\n",
    "    return(a, b, c)"
   ]
  },
  {
   "cell_type": "markdown",
   "metadata": {},
   "source": [
    "Right so now that we have a, b , c we are ready to test. `is_satisfied` tests that our witness matches the constraints we are planing to add. \n",
    "\n",
    "Basically a[0] * b[0] = c[0] check this is a multiplicaion\n",
    "a[2] + b[2] = c[2] check this is an addition."
   ]
  },
  {
   "cell_type": "code",
   "execution_count": 72,
   "metadata": {},
   "outputs": [],
   "source": [
    "def is_satisfied_witness(a, b, c):\n",
    "    assert(a[0] * b[0] == c[0])\n",
    "    assert(a[1] * b[1] == c[1])\n",
    "    assert(a[2] * b[2] == c[2])\n",
    "    assert(a[3] + b[3] == c[3])"
   ]
  },
  {
   "cell_type": "code",
   "execution_count": 73,
   "metadata": {},
   "outputs": [],
   "source": [
    "# from plonk.sample_problem import gen_witness, is_satisfied_witness\n",
    "\n",
    "# a, b , c = gen_witness(1)\n",
    "\n",
    "# Uncomment the next line and run\n",
    "# is_satisfied_witness(a,b,c)"
   ]
  },
  {
   "cell_type": "markdown",
   "metadata": {},
   "source": [
    "Reader should investigate why this fails and why the next passes"
   ]
  },
  {
   "cell_type": "code",
   "execution_count": 74,
   "metadata": {},
   "outputs": [],
   "source": [
    "a, b, c = gen_witness(3, 4, 5)\n",
    "is_satisfied_witness(a, b, c)"
   ]
  },
  {
   "cell_type": "markdown",
   "metadata": {},
   "source": [
    "## In plonk everything is a polynomial\n",
    "\n",
    "In the previous section we generated our witness. A witness is a valid solution to our constraints. Where here our constraints are $x^3 + x + 5 == 35$\n",
    "\n",
    "Next we want to define the actual constraints. They will be defined as a polynomial. Lets start out by creating a function eval_poly which takes a polynomial and evaluates it at a given point. Take the polynomial $1 + x + x^2 = y$ which is defined by this list [1,1,1] from lowest degree (ie starting at the $1*x^0$ ) to highest (1*x^2) "
   ]
  },
  {
   "cell_type": "code",
   "execution_count": 75,
   "metadata": {},
   "outputs": [],
   "source": [
    "## User input here. \n",
    "def eval_poly(coef, x):\n",
    "    res = []\n",
    "    power = 1\n",
    "    for i in coef:\n",
    "        res.append(i * power)\n",
    "        power = power * x\n",
    "    return(round(sum(res)))"
   ]
  },
  {
   "cell_type": "code",
   "execution_count": 76,
   "metadata": {},
   "outputs": [],
   "source": [
    "assert(eval_poly([1,1,1], 2) == 7 )\n",
    "assert(eval_poly([-2, 7, -5, 1], 0) == -2)\n",
    "assert(eval_poly([-2, 7, -5, 1], 1) == 1)\n",
    "assert(eval_poly([-2, 7, -5, 1], 2) == 0)\n",
    "assert(eval_poly([-2, 7, -5, 1], 3) == 1)"
   ]
  },
  {
   "cell_type": "markdown",
   "metadata": {},
   "source": [
    "Okay now it seems out polynomial evaluations are working :)\n",
    "\n",
    "Our mul / add constraint is defined by $\\left(Q_{L_{i}}\\right) a_{i}+\\left(Q_{R_{i}}\\right) b_{i}+\\left(Q_{O_{i}}\\right) c_{i}+\\left(Q_{M_{i}}\\right) a_{i} b_{i}+Q_{C_{i}}=0$ we can use this to check additions and multiplications. Define the constraint polynomial.\n"
   ]
  },
  {
   "cell_type": "code",
   "execution_count": 77,
   "metadata": {},
   "outputs": [],
   "source": [
    "def constraint_polynomial(Qli, Qri, Qmi, Qoi, Qci, ai, bi, ci):\n",
    "    return(Qli*ai + Qri*bi + Qoi*ci + Qmi*ai*bi + Qci == 0)\n",
    "\n",
    "def validate_native(Ql, Qr, Qm, Qo, Qc, a, b, c):\n",
    "    for Qli,Qri,Qmi,Qoi,Qci,ai,bi,ci in zip (Ql,Qr,Qm,Qo,Qc,a,b,c):\n",
    "        if (constraint_polynomial(Qli,Qri,Qmi,Qoi,Qci,ai,bi,ci) == False):\n",
    "            return(False)\n",
    "    return(True)"
   ]
  },
  {
   "cell_type": "code",
   "execution_count": 78,
   "metadata": {},
   "outputs": [],
   "source": [
    "def test_addition():\n",
    "    # constraints\n",
    "    Ql = [1]\n",
    "    Qr = [1]\n",
    "    Qm = [0]\n",
    "    Qo = [-1]\n",
    "    Qc = [0]\n",
    "\n",
    "    # witness\n",
    "    a = [1]\n",
    "    b = [1]\n",
    "    c = [2]\n",
    "\n",
    "    assert ( validate_native(Ql, Qr, Qm, Qo, Qc, a, b, c) == True)\n",
    "\n",
    "\n",
    "def test_mul():\n",
    "\n",
    "    # constraints\n",
    "    Ql = [0]\n",
    "    Qr = [0]\n",
    "    Qm = [1]\n",
    "    Qo = [-1]\n",
    "    Qc = [0]\n",
    "\n",
    "    # witness\n",
    "    a = [1]\n",
    "    b = [1]\n",
    "    c = [1]\n",
    "\n",
    "    assert ( validate_native(Ql, Qr, Qm, Qo, Qc, a, b, c) == True)\n",
    "\n",
    "    \n",
    "\n",
    "def test_constant():\n",
    "    # constraints\n",
    "    Ql = [1]\n",
    "    Qr = [1]\n",
    "    Qm = [0]\n",
    "    Qo = [0]\n",
    "    Qc = [-10]\n",
    "\n",
    "    # witness\n",
    "    a = [10]\n",
    "    b = [0]\n",
    "    c = [10]\n",
    "\n",
    "    assert ( validate_native(Ql, Qr, Qm, Qo, Qc, a, b, c) == True)\n",
    "    \n",
    "test_addition()\n",
    "test_mul()\n",
    "test_constant()\n",
    "\n"
   ]
  },
  {
   "cell_type": "markdown",
   "metadata": {},
   "source": [
    "Okay so now we are doing multiplicaions and additions. We can validate manually that all of these are being done correctly. Right so this is working we can make constraints. So lets make all the constraints for our system. First lets make some helpers that drop the constraints where we need then make sure they pass the tests :)"
   ]
  },
  {
   "cell_type": "code",
   "execution_count": 79,
   "metadata": {},
   "outputs": [],
   "source": [
    "from plonk.constraint import add_add_constarint, add_mul_constarint, add_constant_constraint"
   ]
  },
  {
   "cell_type": "markdown",
   "metadata": {},
   "source": [
    "Okay now lets add the actual constraints. By setting Ql, Qr, Qm , Qo and Qc such that it evaluates to a multipicion constaint at Ql[0] and an addition at Ql[2]. "
   ]
  },
  {
   "cell_type": "code",
   "execution_count": 80,
   "metadata": {},
   "outputs": [],
   "source": [
    "def gen_constraints():\n",
    "    # Prove that I know an X such that X*x*x + x +5 == 35\n",
    "\n",
    "    # init constraints \n",
    "    Ql = []\n",
    "    Qr = []\n",
    "    Qm = []\n",
    "    Qo = []\n",
    "    Qc = []\n",
    "\n",
    "    # set constraints \n",
    "    Ql, Qr, Qm, Qo, Qc = add_mul_constarint(Ql, Qr, Qm, Qo, Qc)\n",
    "    Ql, Qr, Qm, Qo, Qc = add_mul_constarint(Ql, Qr, Qm, Qo, Qc)\n",
    "    Ql, Qr, Qm, Qo, Qc = add_mul_constraint(Ql, Qr, Qm, Qo, Qc)\n",
    "    Ql, Qr, Qm, Qo, Qc = add_add_constarint(Ql, Qr, Qm, Qo, Qc)\n",
    "  \n",
    "    return(Ql, Qr, Qm, Qo, Qc)"
   ]
  },
  {
   "cell_type": "markdown",
   "metadata": {},
   "source": [
    "## Copy constraints \n",
    "So at the moment the system is not secure. Basically we are checking that the variables at location \n",
    "\n",
    "1. `a[0] * b[0] == c[0]` \n",
    "2. `a[1] * b[1] == c[1]`\n",
    "3. `a[2] + b[2] == c[2]`\n",
    "\n",
    "\n",
    "But we are just hoping that `a[1] == c[0]` we need to add constraints to make sure that we copy c[0] to a[1] these are called copy constraints you may also have heard of them refered to as permutation arguments. \n",
    "\n",
    "TODO: Do the actual attack\n",
    "\n",
    "The naive thing to do is to do these checks manually. Basically make sure that each variable is equal to the other. The probelm with this is that it means that we need to check every variable which breaks privacy and succintness. Instead we will find a way to do this check using polynomials. "
   ]
  },
  {
   "cell_type": "markdown",
   "metadata": {},
   "source": [
    "Right now we have our witness which is `witness = a + b + c` and we want to prove that the value at `witness[0] == witness[8] == witness[7] == witness[6]` all of these values corresponding to our initial x. \n",
    "\n",
    "So now we need to make 3 polynomials the first to return the index of witness we want to look up, `witness_x_1`. The second `witness_x_2` to return the index after the permutation has been applied. And the third witness_y which returns the actual value of that witness at a given index. \n",
    "\n",
    "Write code that returns all of these. \n",
    "\n",
    "hint: use `from scipy.interpolate import lagrange` to interpolate a polynomial that passes through several points. "
   ]
  },
  {
   "cell_type": "code",
   "execution_count": 81,
   "metadata": {},
   "outputs": [],
   "source": [
    "# Lets do the first. write fird permutation yourself \n",
    "from plonk.copy_constraint import find_permutation\n",
    "from plonk.poly import polynomial_eval\n",
    "\n",
    "witness = a + b + c\n",
    "eval_domain = range(0,len(witness))\n",
    "witness_x_a = find_permutation(range(0,len(a)), range(0,len(a)))\n",
    "witness_x_b = find_permutation(range(len(a),len(b)*2), range(len(a),len(b)*2))\n",
    "witness_x_c = find_permutation(range(len(b)*2, len(c)*3), range(len(a)*2,len(a)*3))\n",
    "\n",
    "witness_y = find_permutation(witness, eval_domain)\n",
    "\n",
    "for i, val in enumerate(witness):\n",
    "    assert(val == polynomial_eval(witness_y, i))\n"
   ]
  },
  {
   "cell_type": "code",
   "execution_count": 82,
   "metadata": {},
   "outputs": [],
   "source": [
    "from plonk.copy_constraint import find_permutation\n",
    "from plonk.poly import polynomial_eval\n",
    "\n",
    "def gen_copy_constraints():\n",
    "    # a = [x, y, z, x*x]\n",
    "    # b = [x, y, z, y*y]\n",
    "    # c = [x*x, y*y, z*z, z*z]\n",
    "\n",
    "    copy_constraints = [4, 5, 6, 8, 0, 1, 2, 9, 3, 7, 11, 10]\n",
    "\n",
    "    eval_domain = range(0, len(copy_constraints))\n",
    "\n",
    "    x_a_prime = find_permutation(copy_constraints[0:4], eval_domain[0:4])\n",
    "    x_b_prime = find_permutation(copy_constraints[4:8], eval_domain[4:8])\n",
    "    x_c_prime = find_permutation(copy_constraints[8:12], eval_domain[8:12])\n",
    "\n",
    "    return (x_a_prime, x_b_prime, x_c_prime, copy_constraints)"
   ]
  },
  {
   "cell_type": "markdown",
   "metadata": {},
   "source": [
    "The test code below checks that witness_y returns the same results when we use the permutated indexes or the non permuated version. This means that each value there matches. "
   ]
  },
  {
   "cell_type": "code",
   "execution_count": 83,
   "metadata": {},
   "outputs": [],
   "source": [
    "# Okay now lets rearrange it so that the values get swapped when they match\n",
    "witness_x_a_perm, witness_x_b_perm, witness_x_c_perm, copy_constraints = gen_copy_constraints()\n",
    "\n",
    "for i in range(0,len(a)):\n",
    "    assert(polynomial_eval(witness_y , polynomial_eval(witness_x_a, i)) == \n",
    "           polynomial_eval (witness_y ,polynomial_eval(witness_x_a_perm, i)))\n",
    "\n",
    "for i in range(len(a), len(a)*2):\n",
    "    assert(polynomial_eval(witness_y , polynomial_eval(witness_x_b, i)) == \n",
    "           polynomial_eval (witness_y ,polynomial_eval(witness_x_b_perm, i)))\n",
    "    \n",
    "for i in range(len(a)*2, len(a)*3):\n",
    "    assert(polynomial_eval(witness_y , polynomial_eval(witness_x_c, i)) == \n",
    "           polynomial_eval (witness_y ,polynomial_eval(witness_x_c_perm, i)))\n",
    "    "
   ]
  },
  {
   "cell_type": "markdown",
   "metadata": {},
   "source": [
    "# converted this into markdown instead\n",
    "```py\n",
    "# Okay now lets rearrange it so that the values get swapped when they match\n",
    "from plonk.sample_problem import gen_copy_constraints\n",
    "\n",
    "witness_x_a_perm, witness_x_b_perm, witness_x_c_perm, copy_constraints = gen_copy_constraints()\n",
    "\n",
    "for i in range(0,len(a)):\n",
    "    assert(polynomial_eval(witness_y , polynomial_eval(witness_x_a, i)) == \n",
    "           polynomial_eval (witness_y ,polynomial_eval(witness_x_a_perm, i)))\n",
    "\n",
    "for i in range(len(a), len(a)*2):\n",
    "    assert(polynomial_eval(witness_y , polynomial_eval(witness_x_b, i)) == \n",
    "           polynomial_eval (witness_y ,polynomial_eval(witness_x_b_perm, i)))\n",
    "    \n",
    "for i in range(len(a)*2, len(a)*3):\n",
    "    assert(polynomial_eval(witness_y , polynomial_eval(witness_x_c, i)) == \n",
    "           polynomial_eval (witness_y ,polynomial_eval(witness_x_c_perm, i)))\n",
    "```"
   ]
  },
  {
   "cell_type": "markdown",
   "metadata": {},
   "source": [
    "So now we have a way of checking permutations with polynomials. But we still need to check every variable which means we have not really gained anything. So next we will embed these three polynomials in a third such that we can check batches of permutations at once. \n",
    "\n",
    "To do this we take a random linear combination of witness_x_1 and witness_y. $rlc = v1 + wintess_x_1 + v2*witness_y$\n",
    "\n",
    "Then we calculate P(x) where P(0) = 1 and $P(x+1) = p(x)* rlc$\n",
    "\n",
    "Then we do the same for witness_x_2 calculating P_2(x). Because v1 and v2 are random numbers we know that P_1(i) == P_2(i) if and only if witness_Y gives the same results when evaluated on witness_x_1(0:i) and witness_x_2(0:i)"
   ]
  },
  {
   "cell_type": "code",
   "execution_count": 84,
   "metadata": {},
   "outputs": [
    {
     "ename": "NameError",
     "evalue": "name 'witness_x_1' is not defined",
     "output_type": "error",
     "traceback": [
      "\u001b[0;31m---------------------------------------------------------------------------\u001b[0m",
      "\u001b[0;31mNameError\u001b[0m                                 Traceback (most recent call last)",
      "Cell \u001b[0;32mIn[84], line 13\u001b[0m\n\u001b[1;32m      7\u001b[0m eval_domain \u001b[38;5;241m=\u001b[39m \u001b[38;5;28mrange\u001b[39m(\u001b[38;5;241m0\u001b[39m, \u001b[38;5;28mlen\u001b[39m(a)\u001b[38;5;241m*\u001b[39m\u001b[38;5;241m3\u001b[39m)\n\u001b[1;32m     10\u001b[0m \u001b[38;5;66;03m# x, Y , Px_a, rlc = copy_constraint_simple(range(0,len(a)), witness_x_a, witness_y, v1, v2)\u001b[39;00m\n\u001b[1;32m     11\u001b[0m \u001b[38;5;66;03m# x, Y , Px_b, rlc = copy_constraint_simple(range(len(a),len(a)*2), witness_x_b, witness_y, v1, v2)\u001b[39;00m\n\u001b[1;32m     12\u001b[0m \u001b[38;5;66;03m# x, Y , Px_c, rlc = copy_constraint_simple(range(len(a)*2,len(a)*3), witness_x_c, witness_y, v1, v2)\u001b[39;00m\n\u001b[0;32m---> 13\u001b[0m x, Y , Px_a, rlc \u001b[38;5;241m=\u001b[39m copy_constraint_simple(\u001b[38;5;28mrange\u001b[39m(\u001b[38;5;241m0\u001b[39m,\u001b[38;5;28mlen\u001b[39m(a)), \u001b[43mwitness_x_1\u001b[49m, witness_y, v1, v2)\n\u001b[1;32m     14\u001b[0m x, Y , Px_b, rlc \u001b[38;5;241m=\u001b[39m copy_constraint_simple(\u001b[38;5;28mrange\u001b[39m(\u001b[38;5;28mlen\u001b[39m(a),\u001b[38;5;28mlen\u001b[39m(a)\u001b[38;5;241m*\u001b[39m\u001b[38;5;241m2\u001b[39m), witness_x_2, witness_y, v1, v2)\n\u001b[1;32m     15\u001b[0m x, Y , Px_c, rlc \u001b[38;5;241m=\u001b[39m copy_constraint_simple(\u001b[38;5;28mrange\u001b[39m(\u001b[38;5;28mlen\u001b[39m(a)\u001b[38;5;241m*\u001b[39m\u001b[38;5;241m2\u001b[39m,\u001b[38;5;28mlen\u001b[39m(a)\u001b[38;5;241m*\u001b[39m\u001b[38;5;241m3\u001b[39m), witness_x_2, witness_y, v1, v2)\n",
      "\u001b[0;31mNameError\u001b[0m: name 'witness_x_1' is not defined"
     ]
    }
   ],
   "source": [
    "from plonk.copy_constraint import copy_constraint_simple \n",
    "\n",
    "# we have to generate v1 and v2 after a, b and c have been fixed.\n",
    "v1 = hash(str(a + b + c))\n",
    "v2 = hash(str(c + a + b))\n",
    "\n",
    "eval_domain = range(0, len(a)*3)\n",
    "\n",
    "\n",
    "# x, Y , Px_a, rlc = copy_constraint_simple(range(0,len(a)), witness_x_a, witness_y, v1, v2)\n",
    "# x, Y , Px_b, rlc = copy_constraint_simple(range(len(a),len(a)*2), witness_x_b, witness_y, v1, v2)\n",
    "# x, Y , Px_c, rlc = copy_constraint_simple(range(len(a)*2,len(a)*3), witness_x_c, witness_y, v1, v2)\n",
    "x, Y , Px_a, rlc = copy_constraint_simple(range(0,len(a)), witness_x_1, witness_y, v1, v2)\n",
    "x, Y , Px_b, rlc = copy_constraint_simple(range(len(a),len(a)*2), witness_x_2, witness_y, v1, v2)\n",
    "x, Y , Px_c, rlc = copy_constraint_simple(range(len(a)*2,len(a)*3), witness_x_2, witness_y, v1, v2)\n",
    "\n",
    "# calcualte permutated polynomial    \n",
    "# x_1, Y_1 , Px_a_prime, rlc_1 = copy_constraint_simple(range(0,len(a)), witness_x_a_perm, witness_y, v1, v2)\n",
    "# x_1, Y_1 , Px_b_prime, rlc_1 = copy_constraint_simple(range(len(a),len(a)*2), witness_x_b_perm, witness_y, v1, v2)\n",
    "# x_1, Y_1 , Px_c_prime, rlc_1 = copy_constraint_simple(range(len(a)*2,len(a)*3), witness_x_c_perm, witness_y, v1, v2)\n",
    "x_1, Y_1 , Px_a_prime, rlc_1 = copy_constraint_simple(range(0,len(a)), witness_x_1, witness_y, v1, v2)\n",
    "x_1, Y_1 , Px_b_prime, rlc_1 = copy_constraint_simple(range(len(a),len(a)*2), witness_x_2, witness_y, v1, v2)\n",
    "x_1, Y_1 , Px_c_prime, rlc_1 = copy_constraint_simple(range(len(a)*2,len(a)*3), witness_x_2, witness_y, v1, v2)\n",
    "\n",
    "assert(Px_a[-1] * Px_b[-1] * Px_c[-1] == Px_a_prime[-1] * Px_b_prime[-1] * Px_c_prime[-1])\n",
    "assert(Px_a[0] == Px_b[0] == Px_c[0] == Px_a_prime[0] == Px_b_prime[0] == Px_c_prime[0] == 1 )"
   ]
  },
  {
   "cell_type": "markdown",
   "metadata": {},
   "source": [
    "So now we can evaluate many copy constraints by simply checking a single point. But the problem is that the verifier needs to compute the Px_a ... Px_c_prime. We want to come up with a way so that they don't need to evaluate these instead letting the prover produce an argument that they have evaluated them correctly and minimize the verifiers work. We will do that in after the next section. In the next section we will make a quick fft sidetrack cos we need that to make a performant prover. \n"
   ]
  },
  {
   "cell_type": "markdown",
   "metadata": {},
   "source": [
    "## Part x: FFT\n",
    "\n",
    "WILL NOT CONTINUE FROM HERE AS NO LONGER PART OF ASSIGNMEMNT, content below is removed!"
   ]
  }
 ],
 "metadata": {
  "kernelspec": {
   "display_name": "Python 3 (ipykernel)",
   "language": "python",
   "name": "python3"
  },
  "language_info": {
   "codemirror_mode": {
    "name": "ipython",
    "version": 3
   },
   "file_extension": ".py",
   "mimetype": "text/x-python",
   "name": "python",
   "nbconvert_exporter": "python",
   "pygments_lexer": "ipython3",
   "version": "3.10.12"
  }
 },
 "nbformat": 4,
 "nbformat_minor": 4
}
